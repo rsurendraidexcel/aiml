{
  "nbformat": 4,
  "nbformat_minor": 0,
  "metadata": {
    "colab": {
      "provenance": [],
      "authorship_tag": "ABX9TyMhzV+Nbcs3J5ym/sprK7eO",
      "include_colab_link": true
    },
    "kernelspec": {
      "name": "python3",
      "display_name": "Python 3"
    },
    "language_info": {
      "name": "python"
    }
  },
  "cells": [
    {
      "cell_type": "markdown",
      "metadata": {
        "id": "view-in-github",
        "colab_type": "text"
      },
      "source": [
        "<a href=\"https://colab.research.google.com/github/rsurendraidexcel/aiml-labs/blob/main/torch_basic_ipyb.ipynb\" target=\"_parent\"><img src=\"https://colab.research.google.com/assets/colab-badge.svg\" alt=\"Open In Colab\"/></a>"
      ]
    },
    {
      "cell_type": "code",
      "execution_count": null,
      "metadata": {
        "id": "HeUmpGxaax4N"
      },
      "outputs": [],
      "source": [
        "import torch\n",
        "import torch.nn as nn\n",
        "import random\n",
        "import torchvision"
      ]
    },
    {
      "cell_type": "code",
      "source": [
        "x = torch.Tensor(3,2,4,5)"
      ],
      "metadata": {
        "id": "YPYErNQwa1SK"
      },
      "execution_count": null,
      "outputs": []
    },
    {
      "cell_type": "code",
      "source": [
        "type(x)"
      ],
      "metadata": {
        "colab": {
          "base_uri": "https://localhost:8080/"
        },
        "id": "fnZQYDlabFIX",
        "outputId": "accac78b-3f52-4ca2-f713-608582b743e4"
      },
      "execution_count": null,
      "outputs": [
        {
          "output_type": "execute_result",
          "data": {
            "text/plain": [
              "torch.Tensor"
            ]
          },
          "metadata": {},
          "execution_count": 5
        }
      ]
    },
    {
      "cell_type": "code",
      "source": [
        "x.size()"
      ],
      "metadata": {
        "colab": {
          "base_uri": "https://localhost:8080/"
        },
        "id": "8eN97XIRbGhV",
        "outputId": "140bd1a3-1133-4704-e61f-56157414c55a"
      },
      "execution_count": null,
      "outputs": [
        {
          "output_type": "execute_result",
          "data": {
            "text/plain": [
              "torch.Size([3, 2, 4, 5])"
            ]
          },
          "metadata": {},
          "execution_count": 6
        }
      ]
    },
    {
      "cell_type": "code",
      "source": [
        "print(x)"
      ],
      "metadata": {
        "colab": {
          "base_uri": "https://localhost:8080/"
        },
        "id": "BDPqoJERbiNm",
        "outputId": "4af89399-a4cd-44da-ca19-dc9983b1805d"
      },
      "execution_count": null,
      "outputs": [
        {
          "output_type": "stream",
          "name": "stdout",
          "text": [
            "tensor([[[[ 2.6780e-36,  4.5744e-41,  2.6780e-36,  4.5744e-41,  1.4945e-33],\n",
            "          [ 0.0000e+00,  1.4945e-33,  0.0000e+00,  1.4013e-45,  0.0000e+00],\n",
            "          [ 1.4946e-33,  0.0000e+00,  1.4013e-45,  0.0000e+00,  1.4945e-33],\n",
            "          [ 0.0000e+00,  3.3631e-44,  0.0000e+00,  1.4352e-36,  4.5744e-41]],\n",
            "\n",
            "         [[ 2.8026e-45,  0.0000e+00,  0.0000e+00,  0.0000e+00,  1.4013e-45],\n",
            "          [ 0.0000e+00,  1.4013e-45,  1.4013e-45,  3.3631e-44,  0.0000e+00],\n",
            "          [-6.2196e+07,  4.5743e-41,  1.4013e-45,  4.5743e-41,  1.4013e-45],\n",
            "          [ 1.1815e+22,  1.4013e-45,  5.6052e-45,  1.4013e-45,  1.2612e-44]]],\n",
            "\n",
            "\n",
            "        [[[ 2.9427e-44,  4.5743e-41,  1.4945e-33,  0.0000e+00, -1.9791e+08],\n",
            "          [ 4.5743e-41,  1.4013e-45,  0.0000e+00,  1.4013e-45,  5.6052e-45],\n",
            "          [ 1.4013e-45,  2.2421e-44,  5.6052e-45,  0.0000e+00,  1.4945e-33],\n",
            "          [ 0.0000e+00,  1.4945e-33,  0.0000e+00,  1.4945e-33,  0.0000e+00]],\n",
            "\n",
            "         [[ 1.4945e-33,  0.0000e+00,  2.8026e-44,  1.4013e-45,  1.4475e-36],\n",
            "          [ 4.5744e-41,  0.0000e+00,  0.0000e+00,  1.4013e-45,  0.0000e+00],\n",
            "          [ 1.4013e-45,  2.3822e-44,  1.4013e-45,  2.5223e-44,  2.8026e-44],\n",
            "          [ 0.0000e+00,  1.4475e-36,  4.5744e-41,  0.0000e+00,  0.0000e+00]]],\n",
            "\n",
            "\n",
            "        [[[ 1.5961e-42,  0.0000e+00,  1.4013e-45,  2.6625e-44,  1.4013e-45],\n",
            "          [ 2.8026e-44,  2.8026e-44,  0.0000e+00,  1.4475e-36,  4.5744e-41],\n",
            "          [ 0.0000e+00,  0.0000e+00,  1.4013e-45,  0.0000e+00,  1.4013e-45],\n",
            "          [ 2.9427e-44,  1.4013e-45,  3.0829e-44,  2.8026e-44,  1.2612e-44]],\n",
            "\n",
            "         [[ 1.4475e-36,  4.5744e-41,  0.0000e+00,  0.0000e+00,  1.4013e-45],\n",
            "          [ 0.0000e+00,  1.4013e-45,  3.2230e-44,  1.4013e-45,  3.3631e-44],\n",
            "          [ 0.0000e+00,  0.0000e+00,  0.0000e+00,  0.0000e+00,  2.3822e-44],\n",
            "          [ 0.0000e+00,  1.4945e-33,  0.0000e+00,  1.4945e-33,  0.0000e+00]]]])\n"
          ]
        }
      ]
    },
    {
      "cell_type": "code",
      "source": [
        "print(torch.__version__)"
      ],
      "metadata": {
        "colab": {
          "base_uri": "https://localhost:8080/"
        },
        "id": "Dh7uTupMb1CK",
        "outputId": "22fc393a-1fe4-4944-a11a-2070ba2f0f2e"
      },
      "execution_count": null,
      "outputs": [
        {
          "output_type": "stream",
          "name": "stdout",
          "text": [
            "2.0.0+cu118\n"
          ]
        }
      ]
    },
    {
      "cell_type": "code",
      "source": [
        "#example\n",
        "\n",
        "py_list = [[2.3,4.5,3.5],[8.2,4.5,3.5],[8.4,5.4,4.5]]"
      ],
      "metadata": {
        "id": "2iFLP4p1chPc"
      },
      "execution_count": null,
      "outputs": []
    },
    {
      "cell_type": "code",
      "source": [
        "print(py_list)"
      ],
      "metadata": {
        "colab": {
          "base_uri": "https://localhost:8080/"
        },
        "id": "9Sm2_whldbtK",
        "outputId": "7b4ff388-469b-465e-9ce1-e81083e806aa"
      },
      "execution_count": null,
      "outputs": [
        {
          "output_type": "stream",
          "name": "stdout",
          "text": [
            "[[2.3, 4.5, 3.5], [8.2, 4.5, 3.5], [8.4, 5.4, 4.5]]\n"
          ]
        }
      ]
    },
    {
      "cell_type": "code",
      "source": [
        "type(py_list)"
      ],
      "metadata": {
        "colab": {
          "base_uri": "https://localhost:8080/"
        },
        "id": "AFJiwUbRdHZT",
        "outputId": "3bdd2958-1d6d-4d4a-cd37-120cad34392f"
      },
      "execution_count": null,
      "outputs": [
        {
          "output_type": "execute_result",
          "data": {
            "text/plain": [
              "list"
            ]
          },
          "metadata": {},
          "execution_count": 11
        }
      ]
    },
    {
      "cell_type": "code",
      "source": [
        "pt_tensor_list = torch.FloatTensor(py_list)"
      ],
      "metadata": {
        "id": "eywEp2_odJNK"
      },
      "execution_count": null,
      "outputs": []
    },
    {
      "cell_type": "code",
      "source": [
        "type(pt_tensor_list)"
      ],
      "metadata": {
        "colab": {
          "base_uri": "https://localhost:8080/"
        },
        "id": "fgO4fzVTdV0E",
        "outputId": "80ac57f7-2bbb-487f-aea4-0bcb836485b9"
      },
      "execution_count": null,
      "outputs": [
        {
          "output_type": "execute_result",
          "data": {
            "text/plain": [
              "torch.Tensor"
            ]
          },
          "metadata": {},
          "execution_count": 13
        }
      ]
    },
    {
      "cell_type": "code",
      "source": [
        "\n",
        "print(pt_tensor_list)"
      ],
      "metadata": {
        "colab": {
          "base_uri": "https://localhost:8080/"
        },
        "id": "-gczUn-fdZR0",
        "outputId": "a2421464-c694-4fc6-93bf-5b5ea0f75a96"
      },
      "execution_count": null,
      "outputs": [
        {
          "output_type": "stream",
          "name": "stdout",
          "text": [
            "tensor([[2.3000, 4.5000, 3.5000],\n",
            "        [8.2000, 4.5000, 3.5000],\n",
            "        [8.4000, 5.4000, 4.5000]])\n"
          ]
        }
      ]
    },
    {
      "cell_type": "code",
      "source": [
        "#Relu Activation fuction \n",
        "relu1 = nn.ReLU(inplace=False)"
      ],
      "metadata": {
        "id": "yZ5C9nYRdeYl"
      },
      "execution_count": null,
      "outputs": []
    },
    {
      "cell_type": "code",
      "source": [
        "model = nn.Sequential()"
      ],
      "metadata": {
        "id": "HqiW4zbLk75U"
      },
      "execution_count": null,
      "outputs": []
    },
    {
      "cell_type": "code",
      "source": [
        "first_conv_layer =  nn.Conv2d(in_channels=3, out_channels=16, kernel_size=3, stride=1, padding=1)\n",
        "model.add_module(\"conv1\", first_conv_layer)\n",
        "model.add_module(\"Relu1\", relu1)\n",
        "second_conv_layer =  nn.Conv2d(in_channels=16, out_channels=32, kernel_size=[3,3], stride=[1,1], padding=[1,1])\n",
        "model.add_module(\"conv2\", second_conv_layer)\n",
        "model.add_module(\"Relu2\",  nn.ReLU(inplace=False))"
      ],
      "metadata": {
        "id": "2LsZQx5ylb4l"
      },
      "execution_count": null,
      "outputs": []
    },
    {
      "cell_type": "code",
      "source": [
        "#Activation fuction\n",
        "\n",
        "def activation(x):\n",
        "  return 1/(1+torch.exp(-x))"
      ],
      "metadata": {
        "id": "RURmNU2ymMke"
      },
      "execution_count": null,
      "outputs": []
    },
    {
      "cell_type": "code",
      "source": [
        "### Generate some data\n",
        "torch.manual_seed(7) # Set the random seed so things are predictable\n",
        "\n",
        "# Features are 3 random normal variables\n",
        "features = torch.randn((1, 5))\n",
        "# True weights for our data, random normal variables again\n",
        "weights = torch.randn_like(features)\n",
        "\n",
        "# and a true bias term\n",
        "bias = torch.randn((1, 1))"
      ],
      "metadata": {
        "id": "mDhLUfB2mxax"
      },
      "execution_count": null,
      "outputs": []
    },
    {
      "cell_type": "code",
      "source": [
        "### Solution\n",
        "# Now, make our labels from our data and true weights\n",
        "y = activation(torch.sum(features * weights) + bias)\n",
        "y1 = activation((features * weights).sum() + bias)"
      ],
      "metadata": {
        "id": "f5U1uxdGm4Vh"
      },
      "execution_count": null,
      "outputs": []
    },
    {
      "cell_type": "code",
      "source": [
        "## Solution\n",
        "\n",
        "y3 = activation(torch.mm(features, weights.view(5,1)) + bias)"
      ],
      "metadata": {
        "id": "EknX0nTTqiEm"
      },
      "execution_count": null,
      "outputs": []
    },
    {
      "cell_type": "code",
      "source": [
        "print(weights.shape)\n",
        "print(weights.size())\n",
        "print(type(weights))"
      ],
      "metadata": {
        "colab": {
          "base_uri": "https://localhost:8080/"
        },
        "id": "LyuLrFsyqwYm",
        "outputId": "1946c709-0497-420c-f0e3-2762dca75e6c"
      },
      "execution_count": null,
      "outputs": [
        {
          "output_type": "stream",
          "name": "stdout",
          "text": [
            "torch.Size([1, 5])\n",
            "torch.Size([1, 5])\n",
            "<class 'torch.Tensor'>\n"
          ]
        }
      ]
    },
    {
      "cell_type": "code",
      "source": [
        "import numpy as np\n",
        "a = np.random.rand(4,3)"
      ],
      "metadata": {
        "id": "IVCJE7_vrbY3"
      },
      "execution_count": null,
      "outputs": []
    },
    {
      "cell_type": "code",
      "source": [
        "b = torch.from_numpy(a)\n",
        "type(b)"
      ],
      "metadata": {
        "colab": {
          "base_uri": "https://localhost:8080/"
        },
        "id": "4yIZav9_glb-",
        "outputId": "a7ff8456-edde-4092-d5e5-af1f30de455a"
      },
      "execution_count": null,
      "outputs": [
        {
          "output_type": "execute_result",
          "data": {
            "text/plain": [
              "torch.Tensor"
            ]
          },
          "metadata": {},
          "execution_count": 24
        }
      ]
    },
    {
      "cell_type": "code",
      "source": [
        "b"
      ],
      "metadata": {
        "colab": {
          "base_uri": "https://localhost:8080/"
        },
        "id": "WYqy-GTvgsRI",
        "outputId": "b451e507-7c02-451d-c5a3-d249639d4030"
      },
      "execution_count": null,
      "outputs": [
        {
          "output_type": "execute_result",
          "data": {
            "text/plain": [
              "tensor([[0.8217, 0.9907, 0.5106],\n",
              "        [0.7384, 0.9147, 0.2563],\n",
              "        [0.4997, 0.5224, 0.5700],\n",
              "        [0.5198, 0.4265, 0.9962]], dtype=torch.float64)"
            ]
          },
          "metadata": {},
          "execution_count": 25
        }
      ]
    },
    {
      "cell_type": "code",
      "source": [
        "a"
      ],
      "metadata": {
        "colab": {
          "base_uri": "https://localhost:8080/"
        },
        "id": "ETkwTjiOg7CZ",
        "outputId": "ea31babc-ab67-4461-b3d9-63524df9de9b"
      },
      "execution_count": null,
      "outputs": [
        {
          "output_type": "execute_result",
          "data": {
            "text/plain": [
              "array([[0.82170418, 0.99071311, 0.51058781],\n",
              "       [0.73841673, 0.91468401, 0.2563129 ],\n",
              "       [0.49972129, 0.52237117, 0.57003848],\n",
              "       [0.51979796, 0.42654128, 0.99624975]])"
            ]
          },
          "metadata": {},
          "execution_count": 26
        }
      ]
    },
    {
      "cell_type": "code",
      "source": [
        "b.numpy()"
      ],
      "metadata": {
        "colab": {
          "base_uri": "https://localhost:8080/"
        },
        "id": "x12jwY3Bg9SQ",
        "outputId": "35e04bc2-6052-4dda-a88a-0dfd0d588851"
      },
      "execution_count": null,
      "outputs": [
        {
          "output_type": "execute_result",
          "data": {
            "text/plain": [
              "array([[0.82170418, 0.99071311, 0.51058781],\n",
              "       [0.73841673, 0.91468401, 0.2563129 ],\n",
              "       [0.49972129, 0.52237117, 0.57003848],\n",
              "       [0.51979796, 0.42654128, 0.99624975]])"
            ]
          },
          "metadata": {},
          "execution_count": 28
        }
      ]
    },
    {
      "cell_type": "code",
      "source": [
        "# Multiply PyTorch Tensor by 3, in place\n",
        "b.mul_(3)"
      ],
      "metadata": {
        "colab": {
          "base_uri": "https://localhost:8080/"
        },
        "id": "5Y_W4QV8hF_7",
        "outputId": "8dc554ff-817c-4155-9851-7d6a67329519"
      },
      "execution_count": null,
      "outputs": [
        {
          "output_type": "execute_result",
          "data": {
            "text/plain": [
              "tensor([[14.7907, 17.8328,  9.1906],\n",
              "        [13.2915, 16.4643,  4.6136],\n",
              "        [ 8.9950,  9.4027, 10.2607],\n",
              "        [ 9.3564,  7.6777, 17.9325]], dtype=torch.float64)"
            ]
          },
          "metadata": {},
          "execution_count": 31
        }
      ]
    },
    {
      "cell_type": "code",
      "source": [],
      "metadata": {
        "id": "ODgTkpdGhdGb"
      },
      "execution_count": null,
      "outputs": []
    }
  ]
}