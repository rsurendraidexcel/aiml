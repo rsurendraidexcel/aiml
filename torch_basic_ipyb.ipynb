{
  "nbformat": 4,
  "nbformat_minor": 0,
  "metadata": {
    "colab": {
      "provenance": [],
      "authorship_tag": "ABX9TyP3BilxHc7a54DkumeenJ25",
      "include_colab_link": true
    },
    "kernelspec": {
      "name": "python3",
      "display_name": "Python 3"
    },
    "language_info": {
      "name": "python"
    }
  },
  "cells": [
    {
      "cell_type": "markdown",
      "metadata": {
        "id": "view-in-github",
        "colab_type": "text"
      },
      "source": [
        "<a href=\"https://colab.research.google.com/github/rsurendraidexcel/aiml-labs/blob/main/torch_basic_ipyb.ipynb\" target=\"_parent\"><img src=\"https://colab.research.google.com/assets/colab-badge.svg\" alt=\"Open In Colab\"/></a>"
      ]
    },
    {
      "cell_type": "code",
      "execution_count": 31,
      "metadata": {
        "id": "HeUmpGxaax4N"
      },
      "outputs": [],
      "source": [
        "import torch\n",
        "import torch.nn as nn\n",
        "import random"
      ]
    },
    {
      "cell_type": "code",
      "source": [
        "x = torch.Tensor(3,2,4,5)"
      ],
      "metadata": {
        "id": "YPYErNQwa1SK"
      },
      "execution_count": 32,
      "outputs": []
    },
    {
      "cell_type": "code",
      "source": [
        "type(x)"
      ],
      "metadata": {
        "colab": {
          "base_uri": "https://localhost:8080/"
        },
        "id": "fnZQYDlabFIX",
        "outputId": "41f29b75-c8ce-4794-f75d-3051046c306d"
      },
      "execution_count": 33,
      "outputs": [
        {
          "output_type": "execute_result",
          "data": {
            "text/plain": [
              "torch.Tensor"
            ]
          },
          "metadata": {},
          "execution_count": 33
        }
      ]
    },
    {
      "cell_type": "code",
      "source": [
        "x.size()"
      ],
      "metadata": {
        "colab": {
          "base_uri": "https://localhost:8080/"
        },
        "id": "8eN97XIRbGhV",
        "outputId": "42e83fb8-850d-44ec-8b8f-31dd57cfa21e"
      },
      "execution_count": 34,
      "outputs": [
        {
          "output_type": "execute_result",
          "data": {
            "text/plain": [
              "torch.Size([3, 2, 4, 5])"
            ]
          },
          "metadata": {},
          "execution_count": 34
        }
      ]
    },
    {
      "cell_type": "code",
      "source": [
        "print(x)"
      ],
      "metadata": {
        "colab": {
          "base_uri": "https://localhost:8080/"
        },
        "id": "BDPqoJERbiNm",
        "outputId": "dc5995bb-b5f3-4361-c40e-eaa547709e2c"
      },
      "execution_count": 35,
      "outputs": [
        {
          "output_type": "stream",
          "name": "stdout",
          "text": [
            "tensor([[[[1.5810e-34, 0.0000e+00, 0.0000e+00, 0.0000e+00, 0.0000e+00],\n",
            "          [0.0000e+00, 1.3592e-38, 0.0000e+00, 0.0000e+00, 0.0000e+00],\n",
            "          [1.1491e-43, 5.7313e-43, 0.0000e+00, 4.5559e-41, 1.7096e-43],\n",
            "          [4.4842e-44, 1.4013e-45, 4.5803e-41, 1.3672e-38, 0.0000e+00]],\n",
            "\n",
            "         [[7.0065e-45, 0.0000e+00,        nan,        nan, 4.4721e+21],\n",
            "          [1.4574e-43, 2.0193e-42, 4.5804e-41, 3.1025e+04, 4.5803e-41],\n",
            "          [1.3672e-38, 0.0000e+00, 8.4078e-45, 0.0000e+00,        nan],\n",
            "          [       nan, 7.4409e+28, 3.9755e+28, 1.3592e-38, 0.0000e+00]]],\n",
            "\n",
            "\n",
            "        [[[3.1025e+04, 4.5803e-41, 1.3672e-38, 0.0000e+00, 8.4078e-45],\n",
            "          [0.0000e+00,        nan,        nan, 1.7589e+22, 9.2542e+18],\n",
            "          [2.3699e+21, 1.0509e-38, 3.1025e+04, 4.5803e-41, 1.3672e-38],\n",
            "          [0.0000e+00, 2.8026e-45, 0.0000e+00,        nan,        nan]],\n",
            "\n",
            "         [[3.9754e+28, 4.1773e-41, 3.1299e+04, 4.5803e-41, 3.1025e+04],\n",
            "          [4.5803e-41, 1.3672e-38, 0.0000e+00, 8.4078e-45, 0.0000e+00],\n",
            "          [       nan,        nan, 1.7589e+22, 9.2542e+18, 0.0000e+00],\n",
            "          [0.0000e+00, 0.0000e+00, 0.0000e+00, 0.0000e+00, 0.0000e+00]]],\n",
            "\n",
            "\n",
            "        [[[0.0000e+00, 0.0000e+00, 0.0000e+00, 0.0000e+00, 1.3677e-38],\n",
            "          [0.0000e+00, 3.6440e+04, 4.5803e-41, 1.3677e-38, 0.0000e+00],\n",
            "          [3.6250e-34, 4.5804e-41, 3.1100e+04, 4.5803e-41, 0.0000e+00],\n",
            "          [0.0000e+00, 0.0000e+00, 0.0000e+00, 0.0000e+00, 0.0000e+00]],\n",
            "\n",
            "         [[0.0000e+00, 0.0000e+00, 0.0000e+00, 0.0000e+00, 0.0000e+00],\n",
            "          [0.0000e+00, 0.0000e+00, 0.0000e+00, 0.0000e+00, 0.0000e+00],\n",
            "          [2.9185e+04, 4.5803e-41, 2.1191e-16, 4.5804e-41, 1.2988e-31],\n",
            "          [4.5804e-41, 1.3327e-31, 4.5804e-41, 1.3677e-38, 0.0000e+00]]]])\n"
          ]
        }
      ]
    },
    {
      "cell_type": "code",
      "source": [
        "print(torch.__version__)"
      ],
      "metadata": {
        "colab": {
          "base_uri": "https://localhost:8080/"
        },
        "id": "Dh7uTupMb1CK",
        "outputId": "c7cdfc2e-2dca-42a6-9fdf-f187ac220477"
      },
      "execution_count": 36,
      "outputs": [
        {
          "output_type": "stream",
          "name": "stdout",
          "text": [
            "2.0.0+cu118\n"
          ]
        }
      ]
    },
    {
      "cell_type": "code",
      "source": [
        "#example\n",
        "\n",
        "py_list = [[2.3,4.5,3.5],[8.2,4.5,3.5],[8.4,5.4,4.5]]"
      ],
      "metadata": {
        "id": "2iFLP4p1chPc"
      },
      "execution_count": 37,
      "outputs": []
    },
    {
      "cell_type": "code",
      "source": [
        "print(py_list)"
      ],
      "metadata": {
        "colab": {
          "base_uri": "https://localhost:8080/"
        },
        "id": "9Sm2_whldbtK",
        "outputId": "413fe1c9-a4ec-4063-d7c4-effe68129bb1"
      },
      "execution_count": 38,
      "outputs": [
        {
          "output_type": "stream",
          "name": "stdout",
          "text": [
            "[[2.3, 4.5, 3.5], [8.2, 4.5, 3.5], [8.4, 5.4, 4.5]]\n"
          ]
        }
      ]
    },
    {
      "cell_type": "code",
      "source": [
        "type(py_list)"
      ],
      "metadata": {
        "colab": {
          "base_uri": "https://localhost:8080/"
        },
        "id": "AFJiwUbRdHZT",
        "outputId": "c68f3877-a59d-45fd-c54d-513e43fe52ad"
      },
      "execution_count": 39,
      "outputs": [
        {
          "output_type": "execute_result",
          "data": {
            "text/plain": [
              "list"
            ]
          },
          "metadata": {},
          "execution_count": 39
        }
      ]
    },
    {
      "cell_type": "code",
      "source": [
        "pt_tensor_list = torch.FloatTensor(py_list)"
      ],
      "metadata": {
        "id": "eywEp2_odJNK"
      },
      "execution_count": 40,
      "outputs": []
    },
    {
      "cell_type": "code",
      "source": [
        "type(pt_tensor_list)"
      ],
      "metadata": {
        "colab": {
          "base_uri": "https://localhost:8080/"
        },
        "id": "fgO4fzVTdV0E",
        "outputId": "0042b98a-daeb-46b1-940b-7fe996c4f8a6"
      },
      "execution_count": 41,
      "outputs": [
        {
          "output_type": "execute_result",
          "data": {
            "text/plain": [
              "torch.Tensor"
            ]
          },
          "metadata": {},
          "execution_count": 41
        }
      ]
    },
    {
      "cell_type": "code",
      "source": [
        "print(pt_tensor_list)"
      ],
      "metadata": {
        "colab": {
          "base_uri": "https://localhost:8080/"
        },
        "id": "-gczUn-fdZR0",
        "outputId": "c4f49a4e-a465-42b6-fd92-ca36c1e807bc"
      },
      "execution_count": 42,
      "outputs": [
        {
          "output_type": "stream",
          "name": "stdout",
          "text": [
            "tensor([[2.3000, 4.5000, 3.5000],\n",
            "        [8.2000, 4.5000, 3.5000],\n",
            "        [8.4000, 5.4000, 4.5000]])\n"
          ]
        }
      ]
    },
    {
      "cell_type": "code",
      "source": [
        "#Relu Activation fuction \n",
        "relu1 = nn.ReLU(inplace=False)"
      ],
      "metadata": {
        "id": "yZ5C9nYRdeYl"
      },
      "execution_count": 44,
      "outputs": []
    },
    {
      "cell_type": "code",
      "source": [
        "model = nn.Sequential()"
      ],
      "metadata": {
        "id": "HqiW4zbLk75U"
      },
      "execution_count": 45,
      "outputs": []
    },
    {
      "cell_type": "code",
      "source": [
        "first_conv_layer =  nn.Conv2d(in_channels=3, out_channels=16, kernel_size=3, stride=1, padding=1)\n",
        "model.add_module(\"conv1\", first_conv_layer)\n",
        "model.add_module(\"Relu1\", relu1)\n",
        "second_conv_layer =  nn.Conv2d(in_channels=16, out_channels=32, kernel_size=[3,3], stride=[1,1], padding=[1,1])\n",
        "model.add_module(\"conv2\", second_conv_layer)\n",
        "model.add_module(\"Relu2\",  nn.ReLU(inplace=False))"
      ],
      "metadata": {
        "id": "2LsZQx5ylb4l"
      },
      "execution_count": 52,
      "outputs": []
    },
    {
      "cell_type": "code",
      "source": [],
      "metadata": {
        "id": "RURmNU2ymMke"
      },
      "execution_count": 51,
      "outputs": []
    },
    {
      "cell_type": "code",
      "source": [],
      "metadata": {
        "id": "mDhLUfB2mxax"
      },
      "execution_count": 50,
      "outputs": []
    },
    {
      "cell_type": "code",
      "source": [],
      "metadata": {
        "id": "f5U1uxdGm4Vh"
      },
      "execution_count": null,
      "outputs": []
    }
  ]
}